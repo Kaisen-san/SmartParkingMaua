{
 "cells": [
  {
   "cell_type": "code",
   "execution_count": null,
   "metadata": {},
   "outputs": [],
   "source": [
    "import _thread\n",
    "\n",
    "def main1(x, y):\n",
    "    y = 2*x + y\n",
    "    print( \"gogogog\")\n",
    "    \n",
    "\n",
    "    \n",
    "# Create two threads as follows\n",
    "n = 50\n",
    "i=0\n",
    "try:\n",
    "   _thread.start_new_thread( main1(), (4,5, ) )\n",
    "   _thread.start_new_thread( main1(), (7,8, ) )\n",
    "except:\n",
    "   print (\"Error: unable to start thread\")\n",
    "\n",
    "while i < n:\n",
    "   pass"
   ]
  },
  {
   "cell_type": "markdown",
   "metadata": {},
   "source": [
    "example"
   ]
  },
  {
   "cell_type": "code",
   "execution_count": 4,
   "metadata": {},
   "outputs": [
    {
     "name": "stdout",
     "output_type": "stream",
     "text": [
      "Thread-1: Fri Oct  6 12:08:25 2017\n",
      "Thread-2: Fri Oct  6 12:08:27 2017\n",
      "Thread-1: Fri Oct  6 12:08:27 2017\n",
      "Thread-1: Fri Oct  6 12:08:29 2017\n",
      "Thread-2: Fri Oct  6 12:08:31 2017\n",
      "Thread-1: Fri Oct  6 12:08:31 2017\n",
      "Thread-1: Fri Oct  6 12:08:33 2017\n",
      "Thread-2: Fri Oct  6 12:08:35 2017\n",
      "Thread-2: Fri Oct  6 12:08:39 2017\n",
      "Thread-2: Fri Oct  6 12:08:43 2017\n"
     ]
    },
    {
     "ename": "KeyboardInterrupt",
     "evalue": "",
     "output_type": "error",
     "traceback": [
      "\u001b[0;31m---------------------------------------------------------------------------\u001b[0m",
      "\u001b[0;31mKeyboardInterrupt\u001b[0m                         Traceback (most recent call last)",
      "\u001b[0;32m<ipython-input-4-6845f368c940>\u001b[0m in \u001b[0;36m<module>\u001b[0;34m()\u001b[0m\n\u001b[1;32m     20\u001b[0m \u001b[0;34m\u001b[0m\u001b[0m\n\u001b[1;32m     21\u001b[0m \u001b[0;32mwhile\u001b[0m \u001b[0;36m1\u001b[0m\u001b[0;34m:\u001b[0m\u001b[0;34m\u001b[0m\u001b[0m\n\u001b[0;32m---> 22\u001b[0;31m    \u001b[0;32mpass\u001b[0m\u001b[0;34m\u001b[0m\u001b[0m\n\u001b[0m",
      "\u001b[0;31mKeyboardInterrupt\u001b[0m: "
     ]
    }
   ],
   "source": [
    "#!/usr/bin/python3\n",
    "\n",
    "import _thread\n",
    "import time\n",
    "\n",
    "# Define a function for the thread\n",
    "def print_time( threadName, delay):\n",
    "   count = 0\n",
    "   while count < 5:\n",
    "      time.sleep(delay)\n",
    "      count += 1\n",
    "      print (\"%s: %s\" % ( threadName, time.ctime(time.time()) ))\n",
    "\n",
    "# Create two threads as follows\n",
    "try:\n",
    "   _thread.start_new_thread( print_time, (\"Thread-1\", 2, ) )\n",
    "   _thread.start_new_thread( print_time, (\"Thread-2\", 4, ) )\n",
    "except:\n",
    "   print (\"Error: unable to start thread\")\n",
    "\n",
    "while 1:\n",
    "   pass"
   ]
  },
  {
   "cell_type": "code",
   "execution_count": null,
   "metadata": {
    "collapsed": true
   },
   "outputs": [],
   "source": []
  }
 ],
 "metadata": {
  "kernelspec": {
   "display_name": "Python 3",
   "language": "python",
   "name": "python3"
  },
  "language_info": {
   "codemirror_mode": {
    "name": "ipython",
    "version": 3
   },
   "file_extension": ".py",
   "mimetype": "text/x-python",
   "name": "python",
   "nbconvert_exporter": "python",
   "pygments_lexer": "ipython3",
   "version": "3.6.1"
  }
 },
 "nbformat": 4,
 "nbformat_minor": 2
}
